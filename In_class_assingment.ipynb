{
  "nbformat": 4,
  "nbformat_minor": 0,
  "metadata": {
    "colab": {
      "provenance": [],
      "authorship_tag": "ABX9TyNXr/ZksAFEHwn4mHVsgEdb",
      "include_colab_link": true
    },
    "kernelspec": {
      "name": "python3",
      "display_name": "Python 3"
    },
    "language_info": {
      "name": "python"
    }
  },
  "cells": [
    {
      "cell_type": "markdown",
      "metadata": {
        "id": "view-in-github",
        "colab_type": "text"
      },
      "source": [
        "<a href=\"https://colab.research.google.com/github/DiegoAcero28/In-Class-Assignment-Diego-Acero/blob/main/In_class_assingment.ipynb\" target=\"_parent\"><img src=\"https://colab.research.google.com/assets/colab-badge.svg\" alt=\"Open In Colab\"/></a>"
      ]
    },
    {
      "cell_type": "code",
      "source": [
        "r = 3 # radius\n",
        "h = 10 # height\n",
        "pi = 3.14\n",
        "\n",
        "# Surface Area of cylinder\n",
        "SA = 2 * pi * r ** 2 + 2 * pi * r * h\n",
        "print(SA)"
      ],
      "metadata": {
        "colab": {
          "base_uri": "https://localhost:8080/"
        },
        "id": "r87Hh8kdwWZB",
        "outputId": "3245220f-9eac-489a-f233-a1a2af43bc70"
      },
      "execution_count": null,
      "outputs": [
        {
          "output_type": "stream",
          "name": "stdout",
          "text": [
            "244.92000000000002\n"
          ]
        }
      ]
    },
    {
      "cell_type": "code",
      "source": [
        "P1 = input('Choose R, P, or S')\n",
        "P2 = input(\"Choose R, P, or S\")\n",
        "\n",
        "if P1 == P2:\n",
        "  print('draw')\n",
        "\n",
        "elif P1 == 'R' and P2 == 'S' or P1 == 'S' and P2 == 'P' or P1 == 'P' and P2 == 'R':\n",
        "  print('P1 wins')\n",
        "\n",
        "else:\n",
        "  print('P2 wins')"
      ],
      "metadata": {
        "colab": {
          "base_uri": "https://localhost:8080/"
        },
        "id": "ky4W54JBSFVZ",
        "outputId": "a85e0485-d0a5-4a28-d05d-ba43a3e3ccc0"
      },
      "execution_count": 3,
      "outputs": [
        {
          "output_type": "stream",
          "name": "stdout",
          "text": [
            "Choose R, P, or SP\n",
            "Choose R, P, or SS\n",
            "P2 wins\n"
          ]
        }
      ]
    },
    {
      "cell_type": "code",
      "source": [],
      "metadata": {
        "id": "m9sIQX-j4L1Z"
      },
      "execution_count": null,
      "outputs": []
    }
  ]
}