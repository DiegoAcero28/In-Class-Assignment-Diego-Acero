{
  "nbformat": 4,
  "nbformat_minor": 0,
  "metadata": {
    "colab": {
      "provenance": [],
      "authorship_tag": "ABX9TyNlHBYIi+rvcgQ8cT/XbSCk",
      "include_colab_link": true
    },
    "kernelspec": {
      "name": "python3",
      "display_name": "Python 3"
    },
    "language_info": {
      "name": "python"
    }
  },
  "cells": [
    {
      "cell_type": "markdown",
      "metadata": {
        "id": "view-in-github",
        "colab_type": "text"
      },
      "source": [
        "<a href=\"https://colab.research.google.com/github/DiegoAcero28/In-Class-Assignment-Diego-Acero/blob/main/In_class_assingment.ipynb\" target=\"_parent\"><img src=\"https://colab.research.google.com/assets/colab-badge.svg\" alt=\"Open In Colab\"/></a>"
      ]
    },
    {
      "cell_type": "code",
      "source": [
        "r = 3 # radius\n",
        "h = 10 # height\n",
        "pi = 3.14\n",
        "\n",
        "# Surface Area of cylinder\n",
        "SA = 2 * pi * r ** 2 + 2 * pi * r * h\n",
        "print(SA)"
      ],
      "metadata": {
        "colab": {
          "base_uri": "https://localhost:8080/"
        },
        "id": "r87Hh8kdwWZB",
        "outputId": "3245220f-9eac-489a-f233-a1a2af43bc70"
      },
      "execution_count": null,
      "outputs": [
        {
          "output_type": "stream",
          "name": "stdout",
          "text": [
            "244.92000000000002\n"
          ]
        }
      ]
    },
    {
      "cell_type": "code",
      "source": [
        "import random\n",
        "\n",
        "c = input('Do you want to play?')\n",
        "\n",
        "while c == 'yes':\n",
        "  P1 = input('Choose R, P, or S')\n",
        "  P2 = random.choice(['R', 'P','S'])\n",
        "  if P1 == P2:\n",
        "   print('draw')\n",
        "\n",
        "  elif P1 == 'R' and P2 == 'S' or P1 == 'S' and P2 == 'P' or P1 == 'P' and P2 == 'R':\n",
        "    print('P1 wins')\n",
        "\n",
        "  else:\n",
        "    print('CPU wins')\n",
        "\n",
        "  c = input('Do you want to continue?')\n",
        "else:\n",
        "  print('game end')\n"
      ],
      "metadata": {
        "colab": {
          "base_uri": "https://localhost:8080/"
        },
        "id": "ky4W54JBSFVZ",
        "outputId": "1433e926-9435-475c-bd29-58613279d39e"
      },
      "execution_count": 15,
      "outputs": [
        {
          "output_type": "stream",
          "name": "stdout",
          "text": [
            "Do you want to play?yes\n",
            "Choose R, P, or SR\n",
            "CPU wins\n",
            "Do you want to continue?no\n",
            "game end\n"
          ]
        }
      ]
    },
    {
      "cell_type": "code",
      "source": [
        "N1 = float(input('Choose number'))\n",
        "N2 = float(input('Choose number'))\n",
        "Symbol = input('Choose op')\n",
        "if Symbol == '+':\n",
        "  print(N1 + N2)\n",
        "elif Symbol == '-':\n",
        "  print(N1 - N2)\n",
        "elif Symbol == '*':\n",
        "  print(N1 * N2)\n",
        "elif Symbol == '/':\n",
        "  print(N1 / N2)\n",
        "elif Symbol == '**':\n",
        "  print(N1 ** N2)\n",
        "elif Symbol == '%':\n",
        "  print(N1 % N2)\n",
        "elif Symbol == '//':\n",
        "  print(N1 // N2)\n",
        "\n",
        "\n"
      ],
      "metadata": {
        "colab": {
          "base_uri": "https://localhost:8080/"
        },
        "id": "m9sIQX-j4L1Z",
        "outputId": "040d9e12-e2b2-4f0c-e0e9-47715fb84126"
      },
      "execution_count": null,
      "outputs": [
        {
          "output_type": "stream",
          "name": "stdout",
          "text": [
            "Choose number10\n",
            "Choose number5\n",
            "Choose op-\n",
            "5.0\n"
          ]
        }
      ]
    },
    {
      "cell_type": "code",
      "source": [
        "flat_rate = 5\n",
        "for t in range(1,9,1):\n",
        "  charge = flat_rate + 2.5 * t\n",
        "  if charge < 10:\n",
        "    charge = 10\n",
        "  elif charge > 20:\n",
        "    charge = 20\n",
        "  print(t, charge)"
      ],
      "metadata": {
        "colab": {
          "base_uri": "https://localhost:8080/"
        },
        "id": "5mAFoblcEUPL",
        "outputId": "48942401-d7c3-486d-9519-415baccc1fc4"
      },
      "execution_count": null,
      "outputs": [
        {
          "output_type": "stream",
          "name": "stdout",
          "text": [
            "1 10\n",
            "2 10.0\n",
            "3 12.5\n",
            "4 15.0\n",
            "5 17.5\n",
            "6 20.0\n",
            "7 20\n",
            "8 20\n"
          ]
        }
      ]
    },
    {
      "cell_type": "code",
      "source": [
        "ticketprice = 10\n",
        "fixed_costs = 200\n",
        "standardAttendees = 20\n",
        "\n",
        "for ad in range(0,201,25):\n",
        "  profit = ticketprice * (standardAttendees + 2 * round(ad ** 0.5)) - fixed_costs - ad\n",
        "  print(ad, profit)\n",
        ""
      ],
      "metadata": {
        "colab": {
          "base_uri": "https://localhost:8080/"
        },
        "id": "TpRVCam7KeN6",
        "outputId": "5bc6b244-bfd5-4659-c26b-957113e21967"
      },
      "execution_count": 17,
      "outputs": [
        {
          "output_type": "stream",
          "name": "stdout",
          "text": [
            "0 0\n",
            "25 75\n",
            "50 90\n",
            "75 105\n",
            "100 100\n",
            "125 95\n",
            "150 90\n",
            "175 85\n",
            "200 80\n"
          ]
        }
      ]
    },
    {
      "cell_type": "code",
      "source": [
        "ticketprice = 10\n",
        "fixed_costs = 200\n",
        "standardAttendees = 20\n",
        "\n",
        "ad = 0\n",
        "while ad < 201:\n",
        "  profit = 10 * (standardAttendees + 2 * round(ad ** 0.5)) - fixed_costs - ad\n",
        "\n",
        "  print(ad, profit)\n",
        "  ad = ad + 25"
      ],
      "metadata": {
        "colab": {
          "base_uri": "https://localhost:8080/"
        },
        "id": "zircIp_jSHcw",
        "outputId": "bc00ab5e-1b3e-4657-fd09-e15c84d36b10"
      },
      "execution_count": 18,
      "outputs": [
        {
          "output_type": "stream",
          "name": "stdout",
          "text": [
            "25 0\n",
            "50 75\n",
            "75 90\n",
            "100 105\n",
            "125 100\n",
            "150 95\n",
            "175 90\n",
            "200 85\n",
            "225 80\n"
          ]
        }
      ]
    },
    {
      "cell_type": "code",
      "source": [],
      "metadata": {
        "id": "1iNCWXujSnfn"
      },
      "execution_count": null,
      "outputs": []
    }
  ]
}