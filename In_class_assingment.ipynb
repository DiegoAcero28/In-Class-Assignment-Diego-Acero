{
  "nbformat": 4,
  "nbformat_minor": 0,
  "metadata": {
    "colab": {
      "provenance": [],
      "authorship_tag": "ABX9TyNHuOpSfH8QkwLgeBUuxf3g",
      "include_colab_link": true
    },
    "kernelspec": {
      "name": "python3",
      "display_name": "Python 3"
    },
    "language_info": {
      "name": "python"
    }
  },
  "cells": [
    {
      "cell_type": "markdown",
      "metadata": {
        "id": "view-in-github",
        "colab_type": "text"
      },
      "source": [
        "<a href=\"https://colab.research.google.com/github/DiegoAcero28/In-Class-Assignment-Diego-Acero/blob/main/In_class_assingment.ipynb\" target=\"_parent\"><img src=\"https://colab.research.google.com/assets/colab-badge.svg\" alt=\"Open In Colab\"/></a>"
      ]
    },
    {
      "cell_type": "code",
      "source": [
        "r = 3 # radius\n",
        "h = 10 # height\n",
        "pi = 3.14\n",
        "\n",
        "# Surface Area of cylinder\n",
        "SA = 2 * pi * r ** 2 + 2 * pi * r * h\n",
        "print(SA)"
      ],
      "metadata": {
        "colab": {
          "base_uri": "https://localhost:8080/"
        },
        "id": "r87Hh8kdwWZB",
        "outputId": "3245220f-9eac-489a-f233-a1a2af43bc70"
      },
      "execution_count": null,
      "outputs": [
        {
          "output_type": "stream",
          "name": "stdout",
          "text": [
            "244.92000000000002\n"
          ]
        }
      ]
    },
    {
      "cell_type": "code",
      "source": [
        "import random\n",
        "\n",
        "c = input('Do you want to play?')\n",
        "\n",
        "while c == 'yes':\n",
        "  P1 = input('Choose R, P, or S')\n",
        "  P2 = random.choice(['R', 'P','S'])\n",
        "  if P1 == P2:\n",
        "   print('draw')\n",
        "\n",
        "  elif P1 == 'R' and P2 == 'S' or P1 == 'S' and P2 == 'P' or P1 == 'P' and P2 == 'R':\n",
        "    print('P1 wins')\n",
        "\n",
        "  else:\n",
        "    print('CPU wins')\n",
        "\n",
        "  c = input('Do you want to continue?')\n",
        "else:\n",
        "  print('game end')\n"
      ],
      "metadata": {
        "colab": {
          "base_uri": "https://localhost:8080/"
        },
        "id": "ky4W54JBSFVZ",
        "outputId": "1433e926-9435-475c-bd29-58613279d39e"
      },
      "execution_count": null,
      "outputs": [
        {
          "output_type": "stream",
          "name": "stdout",
          "text": [
            "Do you want to play?yes\n",
            "Choose R, P, or SR\n",
            "CPU wins\n",
            "Do you want to continue?no\n",
            "game end\n"
          ]
        }
      ]
    },
    {
      "cell_type": "code",
      "source": [
        "N1 = float(input('Choose number'))\n",
        "N2 = float(input('Choose number'))\n",
        "Symbol = input('Choose op')\n",
        "if Symbol == '+':\n",
        "  print(N1 + N2)\n",
        "elif Symbol == '-':\n",
        "  print(N1 - N2)\n",
        "elif Symbol == '*':\n",
        "  print(N1 * N2)\n",
        "elif Symbol == '/':\n",
        "  print(N1 / N2)\n",
        "elif Symbol == '**':\n",
        "  print(N1 ** N2)\n",
        "elif Symbol == '%':\n",
        "  print(N1 % N2)\n",
        "elif Symbol == '//':\n",
        "  print(N1 // N2)\n",
        "\n",
        "\n"
      ],
      "metadata": {
        "colab": {
          "base_uri": "https://localhost:8080/"
        },
        "id": "m9sIQX-j4L1Z",
        "outputId": "040d9e12-e2b2-4f0c-e0e9-47715fb84126"
      },
      "execution_count": null,
      "outputs": [
        {
          "output_type": "stream",
          "name": "stdout",
          "text": [
            "Choose number10\n",
            "Choose number5\n",
            "Choose op-\n",
            "5.0\n"
          ]
        }
      ]
    },
    {
      "cell_type": "code",
      "source": [
        "flat_rate = 5\n",
        "for t in range(1,9,1):\n",
        "  charge = flat_rate + 2.5 * t\n",
        "  if charge < 10:\n",
        "    charge = 10\n",
        "  elif charge > 20:\n",
        "    charge = 20\n",
        "  print(t, charge)"
      ],
      "metadata": {
        "colab": {
          "base_uri": "https://localhost:8080/"
        },
        "id": "5mAFoblcEUPL",
        "outputId": "48942401-d7c3-486d-9519-415baccc1fc4"
      },
      "execution_count": null,
      "outputs": [
        {
          "output_type": "stream",
          "name": "stdout",
          "text": [
            "1 10\n",
            "2 10.0\n",
            "3 12.5\n",
            "4 15.0\n",
            "5 17.5\n",
            "6 20.0\n",
            "7 20\n",
            "8 20\n"
          ]
        }
      ]
    },
    {
      "cell_type": "code",
      "source": [
        "ticketprice = 10\n",
        "fixed_costs = 200\n",
        "standardAttendees = 20\n",
        "\n",
        "for ad in range(0,201,25):\n",
        "  profit = ticketprice * (standardAttendees + 2 * round(ad ** 0.5)) - fixed_costs - ad\n",
        "  print(ad, profit)\n"
      ],
      "metadata": {
        "colab": {
          "base_uri": "https://localhost:8080/"
        },
        "id": "TpRVCam7KeN6",
        "outputId": "5bc6b244-bfd5-4659-c26b-957113e21967"
      },
      "execution_count": null,
      "outputs": [
        {
          "output_type": "stream",
          "name": "stdout",
          "text": [
            "0 0\n",
            "25 75\n",
            "50 90\n",
            "75 105\n",
            "100 100\n",
            "125 95\n",
            "150 90\n",
            "175 85\n",
            "200 80\n"
          ]
        }
      ]
    },
    {
      "cell_type": "code",
      "source": [
        "ticketprice = 10\n",
        "fixed_costs = 200\n",
        "standardAttendees = 20\n",
        "\n",
        "ad = 0\n",
        "while ad < 201:\n",
        "  profit = 10 * (standardAttendees + 2 * round(ad ** 0.5)) - fixed_costs - ad\n",
        "\n",
        "  print(ad, profit)\n",
        "  ad = ad + 25"
      ],
      "metadata": {
        "colab": {
          "base_uri": "https://localhost:8080/"
        },
        "id": "zircIp_jSHcw",
        "outputId": "bc00ab5e-1b3e-4657-fd09-e15c84d36b10"
      },
      "execution_count": null,
      "outputs": [
        {
          "output_type": "stream",
          "name": "stdout",
          "text": [
            "25 0\n",
            "50 75\n",
            "75 90\n",
            "100 105\n",
            "125 100\n",
            "150 95\n",
            "175 90\n",
            "200 85\n",
            "225 80\n"
          ]
        }
      ]
    },
    {
      "cell_type": "code",
      "source": [
        "l = []\n",
        "c = input('Do you want to add? ')\n",
        "while c == 'yes':\n",
        "  l.append(float(input()))\n",
        "  print(l)\n",
        "  c = input('Do you want to continue? ')\n",
        "\n",
        "\n",
        "\n"
      ],
      "metadata": {
        "colab": {
          "base_uri": "https://localhost:8080/"
        },
        "id": "1iNCWXujSnfn",
        "outputId": "37ab1686-d6c8-4a83-cb2d-a25542c816d4"
      },
      "execution_count": null,
      "outputs": [
        {
          "name": "stdout",
          "output_type": "stream",
          "text": [
            "Do you want to add? yes\n",
            "4\n",
            "[4.0]\n",
            "Do you want to continue? no\n"
          ]
        }
      ]
    },
    {
      "cell_type": "code",
      "source": [
        "L = []\n",
        "\n",
        "item = float(input('Give a value: '))\n",
        "while item != 0:\n",
        "  L.append(item)\n",
        "  item = float(input('Give another value: '))\n",
        "L.sort()\n",
        "print(L)"
      ],
      "metadata": {
        "colab": {
          "base_uri": "https://localhost:8080/"
        },
        "id": "ZPQfkHNmZ_Y-",
        "outputId": "2f742f8e-362b-46c5-b4c1-6cef6c66b806"
      },
      "execution_count": null,
      "outputs": [
        {
          "output_type": "stream",
          "name": "stdout",
          "text": [
            "Give a value: 3\n",
            "Give another value: 2\n",
            "Give another value: 5\n",
            "Give another value: 6\n",
            "Give another value: 1\n",
            "Give another value: 0\n",
            "[1.0, 2.0, 3.0, 5.0, 6.0]\n"
          ]
        }
      ]
    },
    {
      "cell_type": "code",
      "source": [
        "L = []\n",
        "\n",
        "while True:\n",
        "  item = int(input('Give value: '))\n",
        "  if item == 0:\n",
        "    break\n",
        "  L.append(item)\n",
        "print(L)"
      ],
      "metadata": {
        "colab": {
          "base_uri": "https://localhost:8080/"
        },
        "id": "x1CO05JjbQgw",
        "outputId": "f8f990b6-1b55-4271-f281-d3696120066f"
      },
      "execution_count": null,
      "outputs": [
        {
          "output_type": "stream",
          "name": "stdout",
          "text": [
            "Give value: 5\n",
            "Give value: 3\n",
            "Give value: 0\n",
            "[5, 3]\n"
          ]
        }
      ]
    },
    {
      "cell_type": "code",
      "source": [
        "months = {}\n",
        "\n",
        "names = ['Jan', 'Feb', 'Mar', 'Apr', 'May', 'Jun',\n",
        "         'Jul', 'Aug', 'Sep', 'Oct', 'Nov', 'Dec']\n",
        "numbers = [1, 2, 3, 4, 5, 6, 7, 8, 9, 10, 11, 12]\n",
        "\n",
        "for i in range(12):\n",
        "  months[numbers[i]] = names[i] #\n",
        "\n",
        "print(months)\n"
      ],
      "metadata": {
        "colab": {
          "base_uri": "https://localhost:8080/"
        },
        "id": "ERmSWdY3FX2E",
        "outputId": "096abd8a-0c41-4aca-addc-0e1df7af6bb7"
      },
      "execution_count": null,
      "outputs": [
        {
          "output_type": "stream",
          "name": "stdout",
          "text": [
            "{1: 'Jan', 2: 'Feb', 3: 'Mar', 4: 'Apr', 5: 'May', 6: 'Jun', 7: 'Jul', 8: 'Aug', 9: 'Sep', 10: 'Oct', 11: 'Nov', 12: 'Dec'}\n"
          ]
        }
      ]
    },
    {
      "cell_type": "code",
      "source": [
        "down = total * ratio\n",
        "months = 0\n",
        "amount = 0\n",
        "annual_salary = input()\n",
        "portion_saved = input()\n",
        "total_cost = input()\n",
        "while amount <= down:()\n",
        "  months += 1\n",
        "  if month % == 0:\n",
        "\n"
      ],
      "metadata": {
        "id": "57xTQPCuWq6U",
        "colab": {
          "base_uri": "https://localhost:8080/",
          "height": 106
        },
        "outputId": "0eb4d507-0d67-4461-9088-61b3767c7768"
      },
      "execution_count": 33,
      "outputs": [
        {
          "output_type": "error",
          "ename": "IndentationError",
          "evalue": "unexpected indent (<ipython-input-33-fa5b9bf95254>, line 8)",
          "traceback": [
            "\u001b[0;36m  File \u001b[0;32m\"<ipython-input-33-fa5b9bf95254>\"\u001b[0;36m, line \u001b[0;32m8\u001b[0m\n\u001b[0;31m    months += 1\u001b[0m\n\u001b[0m    ^\u001b[0m\n\u001b[0;31mIndentationError\u001b[0m\u001b[0;31m:\u001b[0m unexpected indent\n"
          ]
        }
      ]
    },
    {
      "cell_type": "code",
      "source": [
        "def calcFee(hours,decimals=2):\n",
        "  fee = 5 + hours * 2.5\n",
        "  fee = round(fee,decimals)\n",
        "  return fee\n",
        "\n",
        "def displayFee(fee):\n",
        "  print(fee)\n",
        "\n",
        "h=float(input('Enter # of hours: '))\n",
        "fee = calcFee(h)\n",
        "displayFee(fee)"
      ],
      "metadata": {
        "colab": {
          "base_uri": "https://localhost:8080/"
        },
        "id": "Nvg11YfSMdq1",
        "outputId": "f64b992e-ca88-4639-e11b-f0071e81b186"
      },
      "execution_count": 31,
      "outputs": [
        {
          "output_type": "stream",
          "name": "stdout",
          "text": [
            "Enter # of hours: 3\n",
            "12.5\n"
          ]
        }
      ]
    },
    {
      "cell_type": "code",
      "source": [
        "def rev(s):\n",
        "  if len(s)==1:\n",
        "    return s\n",
        "\n",
        "  else:\n",
        "    return s[-1] + rev(s[:-1])\n",
        "\n",
        "rev('hello')"
      ],
      "metadata": {
        "colab": {
          "base_uri": "https://localhost:8080/",
          "height": 36
        },
        "id": "utPDjPfWUity",
        "outputId": "56581dec-2e81-4309-e40b-5120e0a288da"
      },
      "execution_count": null,
      "outputs": [
        {
          "output_type": "execute_result",
          "data": {
            "text/plain": [
              "'olleh'"
            ],
            "application/vnd.google.colaboratory.intrinsic+json": {
              "type": "string"
            }
          },
          "metadata": {},
          "execution_count": 9
        }
      ]
    },
    {
      "cell_type": "code",
      "source": [
        "def wAvg(L, w):\n",
        "  res = []\n",
        "  try:\n",
        "    for i in range(len(L)):\n",
        "      res.append(L[i]*w[i])\n",
        "    return sum(res)/sum(w)\n",
        "  except ZeroDivisionError:\n",
        "    print('Division by 0')\n",
        "    return []\n",
        "  except TypeError:\n",
        "    print('Non-numerical objects found')\n",
        "    return []\n",
        "  except Exception as e:\n",
        "    print(f'Unknown error: {e}')\n",
        "    return float('nan')\n",
        "\n",
        "\n",
        "wAvg([1,2,3], [])\n",
        "\n",
        "\n",
        "\n"
      ],
      "metadata": {
        "colab": {
          "base_uri": "https://localhost:8080/"
        },
        "id": "D3KnJVH2uJqU",
        "outputId": "2ac0012d-cb4b-4e8c-e2c9-e333ffa0c873"
      },
      "execution_count": null,
      "outputs": [
        {
          "output_type": "stream",
          "name": "stdout",
          "text": [
            "Unknown error: list index out of range\n"
          ]
        },
        {
          "output_type": "execute_result",
          "data": {
            "text/plain": [
              "nan"
            ]
          },
          "metadata": {},
          "execution_count": 3
        }
      ]
    },
    {
      "cell_type": "code",
      "source": [
        "class Student:\n",
        "  def __init__(self,name, number):\n",
        "    self.name = name\n",
        "    self.number = number\n",
        "\n",
        "  def set_name(self, newName):\n",
        "    self.name = newName\n",
        "\n",
        "  def get_name(self):\n",
        "    return self.name\n",
        "\n",
        "\n",
        "s1 = Student('James Bond', '007')\n",
        "s2 = Student(\"Clark Kent\", '333')\n",
        "\n",
        "s1.course"
      ],
      "metadata": {
        "colab": {
          "base_uri": "https://localhost:8080/"
        },
        "id": "tuTZIpgkncza",
        "outputId": "c389d372-894c-407c-a941-739131eedaf7"
      },
      "execution_count": 23,
      "outputs": [
        {
          "output_type": "execute_result",
          "data": {
            "text/plain": [
              "[]"
            ]
          },
          "metadata": {},
          "execution_count": 23
        }
      ]
    },
    {
      "cell_type": "code",
      "source": [
        "class Coordinate:\n",
        "  def __init__(self,x,y):\n",
        "    self.x = x\n",
        "    self.y = y\n",
        "\n",
        "  def dist(self,other):\n",
        "    dist = ((self.x - other.x) ** 2 + (self.y - other.y) ** 2) ** 0.5\n",
        "    return dist\n"
      ],
      "metadata": {
        "id": "y265h6x6tZ7d"
      },
      "execution_count": null,
      "outputs": []
    },
    {
      "cell_type": "code",
      "source": [
        "class Student:\n",
        "  def __init__(self,name, number):\n",
        "    self.name = name\n",
        "    self.number = number\n",
        "    self.courses = []\n",
        "\n",
        "  def enroll(self,course):\n",
        "    if course not in self.courses:\n",
        "      self.courses.append(course)\n",
        "    else:\n",
        "      print(f'Already enrolled in {course}')\n",
        "\n",
        "  def get__courses(self):\n",
        "    return self.courses\n",
        "\n",
        "s = Student('Bob', '123',)\n",
        "s.enroll('ABC123')\n",
        "s.get__courses()\n",
        "\n",
        "\n"
      ],
      "metadata": {
        "colab": {
          "base_uri": "https://localhost:8080/"
        },
        "id": "J6Grj9SN__7R",
        "outputId": "44161b67-dfd1-43d5-e9d9-02c33534bfee"
      },
      "execution_count": 30,
      "outputs": [
        {
          "output_type": "execute_result",
          "data": {
            "text/plain": [
              "['ABC123']"
            ]
          },
          "metadata": {},
          "execution_count": 30
        }
      ]
    }
  ]
}