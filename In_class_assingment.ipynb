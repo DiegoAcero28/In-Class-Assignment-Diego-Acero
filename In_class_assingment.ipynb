{
  "nbformat": 4,
  "nbformat_minor": 0,
  "metadata": {
    "colab": {
      "provenance": [],
      "authorship_tag": "ABX9TyNTgkYIbu9pE09WzWLj5iAa",
      "include_colab_link": true
    },
    "kernelspec": {
      "name": "python3",
      "display_name": "Python 3"
    },
    "language_info": {
      "name": "python"
    }
  },
  "cells": [
    {
      "cell_type": "markdown",
      "metadata": {
        "id": "view-in-github",
        "colab_type": "text"
      },
      "source": [
        "<a href=\"https://colab.research.google.com/github/DiegoAcero28/In-Class-Assignment-Diego-Acero/blob/main/In_class_assingment.ipynb\" target=\"_parent\"><img src=\"https://colab.research.google.com/assets/colab-badge.svg\" alt=\"Open In Colab\"/></a>"
      ]
    },
    {
      "cell_type": "code",
      "source": [
        "r = 3 # radius\n",
        "h = 10 # height\n",
        "pi = 3.14\n",
        "\n",
        "# Surface Area of cylinder\n",
        "SA = 2 * pi * r ** 2 + 2 * pi * r * h\n",
        "print(SA)"
      ],
      "metadata": {
        "colab": {
          "base_uri": "https://localhost:8080/"
        },
        "id": "r87Hh8kdwWZB",
        "outputId": "3245220f-9eac-489a-f233-a1a2af43bc70"
      },
      "execution_count": null,
      "outputs": [
        {
          "output_type": "stream",
          "name": "stdout",
          "text": [
            "244.92000000000002\n"
          ]
        }
      ]
    },
    {
      "cell_type": "code",
      "source": [
        "import random\n",
        "\n",
        "c = input('Do you want to play?')\n",
        "\n",
        "while c == 'yes':\n",
        "  P1 = input('Choose R, P, or S')\n",
        "  P2 = random.choice(['R', 'P','S'])\n",
        "  if P1 == P2:\n",
        "   print('draw')\n",
        "\n",
        "  elif P1 == 'R' and P2 == 'S' or P1 == 'S' and P2 == 'P' or P1 == 'P' and P2 == 'R':\n",
        "    print('P1 wins')\n",
        "\n",
        "  else:\n",
        "    print('CPU wins')\n",
        "\n",
        "  c = input('Do you want to continue?')\n",
        "else:\n",
        "  print('game end')\n"
      ],
      "metadata": {
        "colab": {
          "base_uri": "https://localhost:8080/"
        },
        "id": "ky4W54JBSFVZ",
        "outputId": "1433e926-9435-475c-bd29-58613279d39e"
      },
      "execution_count": 15,
      "outputs": [
        {
          "output_type": "stream",
          "name": "stdout",
          "text": [
            "Do you want to play?yes\n",
            "Choose R, P, or SR\n",
            "CPU wins\n",
            "Do you want to continue?no\n",
            "game end\n"
          ]
        }
      ]
    },
    {
      "cell_type": "code",
      "source": [
        "N1 = float(input('Choose number'))\n",
        "N2 = float(input('Choose number'))\n",
        "Symbol = input('Choose op')\n",
        "if Symbol == '+':\n",
        "  print(N1 + N2)\n",
        "elif Symbol == '-':\n",
        "  print(N1 - N2)\n",
        "elif Symbol == '*':\n",
        "  print(N1 * N2)\n",
        "elif Symbol == '/':\n",
        "  print(N1 / N2)\n",
        "elif Symbol == '**':\n",
        "  print(N1 ** N2)\n",
        "elif Symbol == '%':\n",
        "  print(N1 % N2)\n",
        "elif Symbol == '//':\n",
        "  print(N1 // N2)\n",
        "\n",
        "\n"
      ],
      "metadata": {
        "colab": {
          "base_uri": "https://localhost:8080/"
        },
        "id": "m9sIQX-j4L1Z",
        "outputId": "040d9e12-e2b2-4f0c-e0e9-47715fb84126"
      },
      "execution_count": null,
      "outputs": [
        {
          "output_type": "stream",
          "name": "stdout",
          "text": [
            "Choose number10\n",
            "Choose number5\n",
            "Choose op-\n",
            "5.0\n"
          ]
        }
      ]
    },
    {
      "cell_type": "code",
      "source": [
        "flat_rate = 5\n",
        "for t in range(1,9,1):\n",
        "  charge = flat_rate + 2.5 * t\n",
        "  if charge < 10:\n",
        "    charge = 10\n",
        "  elif charge > 20:\n",
        "    charge = 20\n",
        "  print(t, charge)"
      ],
      "metadata": {
        "colab": {
          "base_uri": "https://localhost:8080/"
        },
        "id": "5mAFoblcEUPL",
        "outputId": "48942401-d7c3-486d-9519-415baccc1fc4"
      },
      "execution_count": null,
      "outputs": [
        {
          "output_type": "stream",
          "name": "stdout",
          "text": [
            "1 10\n",
            "2 10.0\n",
            "3 12.5\n",
            "4 15.0\n",
            "5 17.5\n",
            "6 20.0\n",
            "7 20\n",
            "8 20\n"
          ]
        }
      ]
    },
    {
      "cell_type": "code",
      "source": [
        "ticketprice = 10\n",
        "fixed_costs = 200\n",
        "standardAttendees = 20\n",
        "\n",
        "for ad in range(0,201,25):\n",
        "  profit = ticketprice * (standardAttendees + 2 * round(ad ** 0.5)) - fixed_costs - ad\n",
        "  print(ad, profit)\n",
        ""
      ],
      "metadata": {
        "colab": {
          "base_uri": "https://localhost:8080/"
        },
        "id": "TpRVCam7KeN6",
        "outputId": "5bc6b244-bfd5-4659-c26b-957113e21967"
      },
      "execution_count": 17,
      "outputs": [
        {
          "output_type": "stream",
          "name": "stdout",
          "text": [
            "0 0\n",
            "25 75\n",
            "50 90\n",
            "75 105\n",
            "100 100\n",
            "125 95\n",
            "150 90\n",
            "175 85\n",
            "200 80\n"
          ]
        }
      ]
    },
    {
      "cell_type": "code",
      "source": [
        "ticketprice = 10\n",
        "fixed_costs = 200\n",
        "standardAttendees = 20\n",
        "\n",
        "ad = 0\n",
        "while ad < 201:\n",
        "  profit = 10 * (standardAttendees + 2 * round(ad ** 0.5)) - fixed_costs - ad\n",
        "\n",
        "  print(ad, profit)\n",
        "  ad = ad + 25"
      ],
      "metadata": {
        "colab": {
          "base_uri": "https://localhost:8080/"
        },
        "id": "zircIp_jSHcw",
        "outputId": "bc00ab5e-1b3e-4657-fd09-e15c84d36b10"
      },
      "execution_count": 18,
      "outputs": [
        {
          "output_type": "stream",
          "name": "stdout",
          "text": [
            "25 0\n",
            "50 75\n",
            "75 90\n",
            "100 105\n",
            "125 100\n",
            "150 95\n",
            "175 90\n",
            "200 85\n",
            "225 80\n"
          ]
        }
      ]
    },
    {
      "cell_type": "code",
      "source": [
        "l = []\n",
        "c = input('Do you want to add? ')\n",
        "while c == 'yes':\n",
        "  l.append(float(input()))\n",
        "  print(l)\n",
        "  c = input('Do you want to continue? ')\n",
        "\n",
        "\n",
        "\n"
      ],
      "metadata": {
        "colab": {
          "base_uri": "https://localhost:8080/"
        },
        "id": "1iNCWXujSnfn",
        "outputId": "37ab1686-d6c8-4a83-cb2d-a25542c816d4"
      },
      "execution_count": 16,
      "outputs": [
        {
          "name": "stdout",
          "output_type": "stream",
          "text": [
            "Do you want to add? yes\n",
            "4\n",
            "[4.0]\n",
            "Do you want to continue? no\n"
          ]
        }
      ]
    },
    {
      "cell_type": "code",
      "source": [
        "L = []\n",
        "\n",
        "item = float(input('Give a value: '))\n",
        "while item != 0:\n",
        "  L.append(item)\n",
        "  item = float(input('Give another value: '))\n",
        "L.sort()\n",
        "print(L)"
      ],
      "metadata": {
        "colab": {
          "base_uri": "https://localhost:8080/"
        },
        "id": "ZPQfkHNmZ_Y-",
        "outputId": "2f742f8e-362b-46c5-b4c1-6cef6c66b806"
      },
      "execution_count": 20,
      "outputs": [
        {
          "output_type": "stream",
          "name": "stdout",
          "text": [
            "Give a value: 3\n",
            "Give another value: 2\n",
            "Give another value: 5\n",
            "Give another value: 6\n",
            "Give another value: 1\n",
            "Give another value: 0\n",
            "[1.0, 2.0, 3.0, 5.0, 6.0]\n"
          ]
        }
      ]
    },
    {
      "cell_type": "code",
      "source": [
        "L = []\n",
        "\n",
        "while True:\n",
        "  item = int(input('Give value: '))\n",
        "  if item == 0:\n",
        "    break\n",
        "  L.append(item)\n",
        "print(L)"
      ],
      "metadata": {
        "colab": {
          "base_uri": "https://localhost:8080/"
        },
        "id": "x1CO05JjbQgw",
        "outputId": "f8f990b6-1b55-4271-f281-d3696120066f"
      },
      "execution_count": 19,
      "outputs": [
        {
          "output_type": "stream",
          "name": "stdout",
          "text": [
            "Give value: 5\n",
            "Give value: 3\n",
            "Give value: 0\n",
            "[5, 3]\n"
          ]
        }
      ]
    },
    {
      "cell_type": "code",
      "source": [
        "months = {}\n",
        "\n",
        "names = ['Jan', 'Feb', 'Mar', 'Apr', 'May', 'Jun',\n",
        "         'Jul', 'Aug', 'Sep', 'Oct', 'Nov', 'Dec']\n",
        "numbers = [1, 2, 3, 4, 5, 6, 7, 8, 9, 10, 11, 12]\n",
        "\n",
        "for i in range(12):\n",
        "  months[numbers[i]] = names[i] #\n",
        "\n",
        "print(months)\n"
      ],
      "metadata": {
        "colab": {
          "base_uri": "https://localhost:8080/"
        },
        "id": "ERmSWdY3FX2E",
        "outputId": "096abd8a-0c41-4aca-addc-0e1df7af6bb7"
      },
      "execution_count": 11,
      "outputs": [
        {
          "output_type": "stream",
          "name": "stdout",
          "text": [
            "{1: 'Jan', 2: 'Feb', 3: 'Mar', 4: 'Apr', 5: 'May', 6: 'Jun', 7: 'Jul', 8: 'Aug', 9: 'Sep', 10: 'Oct', 11: 'Nov', 12: 'Dec'}\n"
          ]
        }
      ]
    }
  ]
}