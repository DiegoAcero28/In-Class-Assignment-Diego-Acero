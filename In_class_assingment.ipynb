{
  "nbformat": 4,
  "nbformat_minor": 0,
  "metadata": {
    "colab": {
      "provenance": [],
      "authorship_tag": "ABX9TyPhjVn2ZpXRIy9vaPdRI7j6",
      "include_colab_link": true
    },
    "kernelspec": {
      "name": "python3",
      "display_name": "Python 3"
    },
    "language_info": {
      "name": "python"
    }
  },
  "cells": [
    {
      "cell_type": "markdown",
      "metadata": {
        "id": "view-in-github",
        "colab_type": "text"
      },
      "source": [
        "<a href=\"https://colab.research.google.com/github/DiegoAcero28/In-Class-Assignment-Diego-Acero/blob/main/In_class_assingment.ipynb\" target=\"_parent\"><img src=\"https://colab.research.google.com/assets/colab-badge.svg\" alt=\"Open In Colab\"/></a>"
      ]
    },
    {
      "cell_type": "code",
      "source": [
        "r = 3 # radius\n",
        "h = 10 # height\n",
        "pi = 3.14\n",
        "\n",
        "# Surface Area of cylinder\n",
        "SA = 2 * pi * r ** 2 + 2 * pi * r * h\n",
        "print(SA)"
      ],
      "metadata": {
        "colab": {
          "base_uri": "https://localhost:8080/"
        },
        "id": "r87Hh8kdwWZB",
        "outputId": "3245220f-9eac-489a-f233-a1a2af43bc70"
      },
      "execution_count": null,
      "outputs": [
        {
          "output_type": "stream",
          "name": "stdout",
          "text": [
            "244.92000000000002\n"
          ]
        }
      ]
    },
    {
      "cell_type": "code",
      "source": [
        "import random\n",
        "\n",
        "c = input('Do you want to play?')\n",
        "\n",
        "while c == 'yes':\n",
        "  P1 = input('Choose R, P, or S')\n",
        "  P2 = random.choice(['R', 'P','S'])\n",
        "  if P1 == P2:\n",
        "   print('draw')\n",
        "\n",
        "  elif P1 == 'R' and P2 == 'S' or P1 == 'S' and P2 == 'P' or P1 == 'P' and P2 == 'R':\n",
        "    print('P1 wins')\n",
        "\n",
        "  else:\n",
        "    print('CPU wins')\n",
        "\n",
        "  c = input('Do you want to continue?')\n",
        "else:\n",
        "  print('game end')\n"
      ],
      "metadata": {
        "colab": {
          "base_uri": "https://localhost:8080/"
        },
        "id": "ky4W54JBSFVZ",
        "outputId": "1433e926-9435-475c-bd29-58613279d39e"
      },
      "execution_count": 15,
      "outputs": [
        {
          "output_type": "stream",
          "name": "stdout",
          "text": [
            "Do you want to play?yes\n",
            "Choose R, P, or SR\n",
            "CPU wins\n",
            "Do you want to continue?no\n",
            "game end\n"
          ]
        }
      ]
    },
    {
      "cell_type": "code",
      "source": [
        "N1 = float(input('Choose number'))\n",
        "N2 = float(input('Choose number'))\n",
        "Symbol = input('Choose op')\n",
        "if Symbol == '+':\n",
        "  print(N1 + N2)\n",
        "elif Symbol == '-':\n",
        "  print(N1 - N2)\n",
        "elif Symbol == '*':\n",
        "  print(N1 * N2)\n",
        "elif Symbol == '/':\n",
        "  print(N1 / N2)\n",
        "elif Symbol == '**':\n",
        "  print(N1 ** N2)\n",
        "elif Symbol == '%':\n",
        "  print(N1 % N2)\n",
        "elif Symbol == '//':\n",
        "  print(N1 // N2)\n",
        "\n",
        "\n"
      ],
      "metadata": {
        "colab": {
          "base_uri": "https://localhost:8080/"
        },
        "id": "m9sIQX-j4L1Z",
        "outputId": "040d9e12-e2b2-4f0c-e0e9-47715fb84126"
      },
      "execution_count": null,
      "outputs": [
        {
          "output_type": "stream",
          "name": "stdout",
          "text": [
            "Choose number10\n",
            "Choose number5\n",
            "Choose op-\n",
            "5.0\n"
          ]
        }
      ]
    },
    {
      "cell_type": "code",
      "source": [
        "flat_rate = 5\n",
        "for t in range(1,9,1):\n",
        "  charge = flat_rate + 2.5 * t\n",
        "  if charge < 10:\n",
        "    charge = 10\n",
        "  elif charge > 20:\n",
        "    charge = 20\n",
        "  print(t, charge)"
      ],
      "metadata": {
        "colab": {
          "base_uri": "https://localhost:8080/"
        },
        "id": "5mAFoblcEUPL",
        "outputId": "48942401-d7c3-486d-9519-415baccc1fc4"
      },
      "execution_count": null,
      "outputs": [
        {
          "output_type": "stream",
          "name": "stdout",
          "text": [
            "1 10\n",
            "2 10.0\n",
            "3 12.5\n",
            "4 15.0\n",
            "5 17.5\n",
            "6 20.0\n",
            "7 20\n",
            "8 20\n"
          ]
        }
      ]
    }
  ]
}